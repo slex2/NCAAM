{
 "cells": [
  {
   "cell_type": "code",
   "execution_count": null,
   "metadata": {},
   "outputs": [],
   "source": [
    "import pandas as pd\n",
    "import numpy as np\n",
    "\n",
    "def to_pickle(path) : \n",
    "    df = pd.read_csv(path, encoding='unicode_escape')\n",
    "    try : \n",
    "        df = df.loc[df['Season'] >= 2020].copy(deep=True)\n",
    "    except KeyError as e: \n",
    "        print(e)\n",
    "        df = df.copy(deep=True)\n",
    "    filename = path.split('\\\\')[-1].split('.')[0]\n",
    "    df.to_pickle(f'.\\\\data\\\\{filename}.pkl')"
   ]
  },
  {
   "attachments": {},
   "cell_type": "markdown",
   "metadata": {},
   "source": [
    "# Kaggle Data"
   ]
  },
  {
   "cell_type": "code",
   "execution_count": null,
   "metadata": {},
   "outputs": [],
   "source": [
    "data = 'C:\\\\NCAAM\\\\2023'\n",
    "season_results = f'{data}\\\\MRegularSeasonDetailedResults.csv'\n",
    "massey = f'{data}\\\\MMasseyOrdinals.csv'\n",
    "coaches = f'{data}\\\\MTeamCoaches.csv'\n",
    "conferences = f'{data}\\\\MTeamConferences.csv'\n",
    "teams = f'{data}\\\\MTeams.csv'\n",
    "team_spellings = f'{data}\\\\MTeamSpellings_lex.csv'\n",
    "tourney_results = f'{data}\\\\MNCAATourneyDetailedResults.csv'\n",
    "seeds = f'{data}\\\\MNCAATourneySeeds.csv'\n",
    "slots = f'{data}\\\\MNCAATourneySlots.csv'\n",
    "tourneyRoundSlots = f'{data}\\\\MNCAATourneySeedRoundSlots'"
   ]
  },
  {
   "cell_type": "code",
   "execution_count": null,
   "metadata": {},
   "outputs": [
    {
     "name": "stdout",
     "output_type": "stream",
     "text": [
      "'Season'\n",
      "'Season'\n"
     ]
    }
   ],
   "source": [
    "to_pickle(season_results)\n",
    "to_pickle(massey)\n",
    "to_pickle(coaches)\n",
    "to_pickle(conferences)\n",
    "to_pickle(teams)\n",
    "to_pickle(team_spellings)\n",
    "to_pickle(tourney_results)\n",
    "to_pickle(seeds)\n",
    "to_pickle(slots)\n",
    "to_pickle(tourneyRoundSlots)"
   ]
  },
  {
   "attachments": {},
   "cell_type": "markdown",
   "metadata": {},
   "source": [
    "# Kenpom Data"
   ]
  },
  {
   "cell_type": "code",
   "execution_count": 15,
   "metadata": {},
   "outputs": [],
   "source": [
    "from kenpompy.utils import login\n",
    "import kenpompy.summary as kp\n",
    "from datetime import datetime\n",
    "\n",
    "from kenpompy.utils import login\n",
    "\n",
    "browser = login('slex@udel.edu', 'packer123')"
   ]
  },
  {
   "cell_type": "code",
   "execution_count": 16,
   "metadata": {},
   "outputs": [],
   "source": [
    "import kenpompy.summary as kp\n",
    "#2023 kenpom\n",
    "i = 2023\n",
    "eff_stats_23 = kp.get_efficiency(browser, season = i)\n",
    "eff_stats_23['season'] = i\n",
    "eff_stats_23['Team'] = eff_stats_23['Team'].str.lower()\n",
    "four_factors_23 = kp.get_fourfactors(browser, season=i)\n",
    "four_factors_23['season'] = i\n",
    "four_factors_23['Team'] = four_factors_23['Team'].str.lower()\n",
    "height_23 = kp.get_height(browser, season=i)\n",
    "height_23['season'] = i\n",
    "height_23['Team'] = height_23['Team'].str.lower()\n",
    "team_stats_23 = kp.get_teamstats(browser, season=i)\n",
    "team_stats_23['season'] = i\n",
    "team_stats_23['Team'] = team_stats_23['Team'].str.lower()\n",
    "player_stats_23 = kp.get_playerstats(browser, season=i)\n",
    "player_stats_23['season'] = i\n",
    "player_stats_23['Team'] = player_stats_23['Team'].str.lower()\n",
    "point_dist_23 = kp.get_pointdist(browser, season=i)\n",
    "point_dist_23['season'] = i\n",
    "point_dist_23['Team'] = point_dist_23['Team'].str.lower()"
   ]
  },
  {
   "cell_type": "code",
   "execution_count": 17,
   "metadata": {},
   "outputs": [],
   "source": [
    "i = 2022\n",
    "eff_stats_22 = kp.get_efficiency(browser, season = i)\n",
    "eff_stats_22['season'] = i\n",
    "eff_stats_22['Team'] = eff_stats_22['Team'].str.lower()\n",
    "four_factors_22 = kp.get_fourfactors(browser, season=i)\n",
    "four_factors_22['season'] = i\n",
    "four_factors_22['Team'] = four_factors_22['Team'].str.lower()\n",
    "height_22 = kp.get_height(browser, season=i)\n",
    "height_22['season'] = i\n",
    "height_22['Team'] = height_22['Team'].str.lower()\n",
    "team_stats_22 = kp.get_teamstats(browser, season=i)\n",
    "team_stats_22['season'] = i\n",
    "team_stats_22['Team'] = team_stats_22['Team'].str.lower()\n",
    "player_stats_22 = kp.get_playerstats(browser, season=i)\n",
    "player_stats_22['season'] = i\n",
    "player_stats_22['Team'] = player_stats_22['Team'].str.lower()\n",
    "point_dist_22 = kp.get_pointdist(browser, season=i)\n",
    "point_dist_22['season'] = i\n",
    "point_dist_22['Team'] = point_dist_22['Team'].str.lower()"
   ]
  },
  {
   "cell_type": "code",
   "execution_count": 18,
   "metadata": {},
   "outputs": [],
   "source": [
    "i = 2021\n",
    "eff_stats_21 = kp.get_efficiency(browser, season = i)\n",
    "eff_stats_21['season'] = i\n",
    "eff_stats_21['Team'] = eff_stats_21['Team'].str.lower()\n",
    "four_factors_21 = kp.get_fourfactors(browser, season=i)\n",
    "four_factors_21['season'] = i\n",
    "four_factors_21['Team'] = four_factors_21['Team'].str.lower()\n",
    "height_21 = kp.get_height(browser, season=i)\n",
    "height_21['season'] = i\n",
    "height_21['Team'] = height_21['Team'].str.lower()\n",
    "team_stats_21 = kp.get_teamstats(browser, season=i)\n",
    "team_stats_21['season'] = i\n",
    "team_stats_21['Team'] = team_stats_21['Team'].str.lower()\n",
    "player_stats_21 = kp.get_playerstats(browser, season=i)\n",
    "player_stats_21['season'] = i\n",
    "player_stats_21['Team'] = player_stats_21['Team'].str.lower()\n",
    "point_dist_21 = kp.get_pointdist(browser, season=i)\n",
    "point_dist_21['season'] = i\n",
    "point_dist_21['Team'] = point_dist_21['Team'].str.lower()"
   ]
  },
  {
   "cell_type": "code",
   "execution_count": 19,
   "metadata": {},
   "outputs": [],
   "source": [
    "eff_stats_fnl = pd.concat([eff_stats_21, eff_stats_22, eff_stats_23])\n",
    "four_factors_fnl = pd.concat([four_factors_21, four_factors_22, four_factors_23])\n",
    "height_fnl = pd.concat([height_21, height_22, height_23])\n",
    "team_stats_fnl = pd.concat([team_stats_21, team_stats_22, team_stats_23])\n",
    "player_stats_fnl = pd.concat([player_stats_21, player_stats_22, player_stats_23])\n",
    "point_dist_fnl = pd.concat([point_dist_21, point_dist_22, point_dist_23])"
   ]
  },
  {
   "cell_type": "code",
   "execution_count": 20,
   "metadata": {},
   "outputs": [],
   "source": [
    "eff_stats_fnl.to_pickle('.\\\\data\\\\kp_eff_stats.pkl')\n",
    "four_factors_fnl.to_pickle('.\\\\data\\\\kp_four_factors.pkl')\n",
    "height_fnl.to_pickle('.\\\\data\\\\kp_height.pkl')\n",
    "team_stats_fnl.to_pickle('.\\\\data\\\\kp_team_stats.pkl')\n",
    "player_stats_fnl.to_pickle('.\\\\data\\\\kp_player_stats.pkl')\n",
    "point_dist_fnl.to_pickle('.\\\\data\\\\kp_point_dist.pkl')"
   ]
  },
  {
   "cell_type": "code",
   "execution_count": null,
   "metadata": {},
   "outputs": [],
   "source": [
    " "
   ]
  }
 ],
 "metadata": {
  "kernelspec": {
   "display_name": "nfl-env",
   "language": "python",
   "name": "python3"
  },
  "language_info": {
   "codemirror_mode": {
    "name": "ipython",
    "version": 3
   },
   "file_extension": ".py",
   "mimetype": "text/x-python",
   "name": "python",
   "nbconvert_exporter": "python",
   "pygments_lexer": "ipython3",
   "version": "3.10.10"
  },
  "orig_nbformat": 4
 },
 "nbformat": 4,
 "nbformat_minor": 2
}
