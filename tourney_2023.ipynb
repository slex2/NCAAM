{
 "cells": [
  {
   "cell_type": "code",
   "execution_count": 5,
   "metadata": {},
   "outputs": [],
   "source": [
    "import pandas as pd"
   ]
  },
  {
   "cell_type": "code",
   "execution_count": 12,
   "metadata": {},
   "outputs": [],
   "source": [
    "seeds = pd.read_pickle('.\\\\data\\\\MNCAATourneySeeds.pkl').query(''' Season == 2023''')\n",
    "home_seed = seeds.copy(deep=True)\n",
    "home_seed['home_id'] = home_seed['TeamID']\n",
    "away_seed = seeds.copy(deep=True)\n",
    "away_seed['away_id'] = away_seed['TeamID']"
   ]
  },
  {
   "cell_type": "code",
   "execution_count": 13,
   "metadata": {},
   "outputs": [],
   "source": [
    "slots = pd.read_pickle('.\\\\data\\\\MNCAATourneySlots.pkl').query(''' Season == 2023''')"
   ]
  },
  {
   "cell_type": "code",
   "execution_count": 16,
   "metadata": {},
   "outputs": [],
   "source": [
    "slots0 = slots.merge(home_seed, how='left', left_on = 'StrongSeed', right_on = 'Seed')\n",
    "slots1 = slots0.merge(away_seed, how='left', left_on = 'WeakSeed', right_on = 'Seed')"
   ]
  },
  {
   "cell_type": "code",
   "execution_count": 21,
   "metadata": {},
   "outputs": [],
   "source": [
    "round1 = slots1[['StrongSeed', 'WeakSeed', 'home_id', 'away_id']]"
   ]
  },
  {
   "cell_type": "code",
   "execution_count": 22,
   "metadata": {},
   "outputs": [],
   "source": [
    "round1.to_pickle('.\\\\data\\\\round1_games.pkl')"
   ]
  },
  {
   "cell_type": "code",
   "execution_count": null,
   "metadata": {},
   "outputs": [],
   "source": []
  }
 ],
 "metadata": {
  "kernelspec": {
   "display_name": "nfl-env",
   "language": "python",
   "name": "python3"
  },
  "language_info": {
   "codemirror_mode": {
    "name": "ipython",
    "version": 3
   },
   "file_extension": ".py",
   "mimetype": "text/x-python",
   "name": "python",
   "nbconvert_exporter": "python",
   "pygments_lexer": "ipython3",
   "version": "3.10.4"
  },
  "orig_nbformat": 4
 },
 "nbformat": 4,
 "nbformat_minor": 2
}
